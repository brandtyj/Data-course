{
  "metadata": {
    "language_info": {
      "codemirror_mode": {
        "name": "python",
        "version": 3
      },
      "file_extension": ".py",
      "mimetype": "text/x-python",
      "name": "python",
      "nbconvert_exporter": "python",
      "pygments_lexer": "ipython3",
      "version": "3.8"
    },
    "kernelspec": {
      "name": "python",
      "display_name": "Pyolite",
      "language": "python"
    }
  },
  "nbformat_minor": 4,
  "nbformat": 4,
  "cells": [
    {
      "cell_type": "markdown",
      "source": "<h1>My Jupyter Notebook on IBM Watson Studio!<h1>",
      "metadata": {}
    },
    {
      "cell_type": "markdown",
      "source": "<b>Brandon Tan<b>\n\nData scientist",
      "metadata": {}
    },
    {
      "cell_type": "markdown",
      "source": "*I am interested in data science because it allows me to discover previously unknown insights and innovate.*",
      "metadata": {}
    },
    {
      "cell_type": "markdown",
      "source": "<h3>The code below is supposed to do basic arithmetic<h3>\n",
      "metadata": {}
    },
    {
      "cell_type": "code",
      "source": "print(((17 * 5) + 76) ** 0.7)",
      "metadata": {
        "tags": [],
        "trusted": true
      },
      "execution_count": 7,
      "outputs": [
        {
          "name": "stdout",
          "text": "35.05727159659002\n",
          "output_type": "stream"
        }
      ]
    },
    {
      "cell_type": "markdown",
      "source": "*** \n\n- \n- \n- \n\n~strikethrough~",
      "metadata": {
        "tags": []
      }
    }
  ]
}